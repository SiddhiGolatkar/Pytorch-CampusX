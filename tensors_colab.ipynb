{
  "nbformat": 4,
  "nbformat_minor": 0,
  "metadata": {
    "colab": {
      "provenance": [],
      "gpuType": "T4"
    },
    "kernelspec": {
      "name": "python3",
      "display_name": "Python 3"
    },
    "language_info": {
      "name": "python"
    },
    "accelerator": "GPU"
  },
  "cells": [
    {
      "cell_type": "code",
      "source": [
        "import torch"
      ],
      "metadata": {
        "id": "Nsr6IS-abvWS"
      },
      "execution_count": null,
      "outputs": []
    },
    {
      "cell_type": "code",
      "source": [
        "print(torch.__version__)"
      ],
      "metadata": {
        "colab": {
          "base_uri": "https://localhost:8080/"
        },
        "id": "50Aj-UyJbvSz",
        "outputId": "25973401-1696-44c1-d3e7-54ead83d1ea8"
      },
      "execution_count": null,
      "outputs": [
        {
          "output_type": "stream",
          "name": "stdout",
          "text": [
            "2.5.1+cu121\n"
          ]
        }
      ]
    },
    {
      "cell_type": "code",
      "source": [
        "if torch.cuda.is_available():\n",
        "    print(\"GPU is available\")\n",
        "    print(f\"Using GPU: {torch.cuda.get_device_name(0)}\")\n",
        "else:\n",
        "    print(\"GPU not available. using CPU\")"
      ],
      "metadata": {
        "colab": {
          "base_uri": "https://localhost:8080/"
        },
        "id": "rlPocW3VbvPD",
        "outputId": "beaae8d5-80a7-4061-93f7-324b959cb84b"
      },
      "execution_count": null,
      "outputs": [
        {
          "output_type": "stream",
          "name": "stdout",
          "text": [
            "GPU is available\n",
            "Using GPU: Tesla T4\n"
          ]
        }
      ]
    },
    {
      "cell_type": "code",
      "source": [
        "# using empty"
      ],
      "metadata": {
        "id": "s1lmNjq2bvLN"
      },
      "execution_count": null,
      "outputs": []
    },
    {
      "cell_type": "code",
      "source": [
        "torch.empty(2,3)"
      ],
      "metadata": {
        "colab": {
          "base_uri": "https://localhost:8080/"
        },
        "id": "8cAM1kZ6bvHI",
        "outputId": "11fda651-f0f0-4a26-fd74-d4a160d2fe9e"
      },
      "execution_count": null,
      "outputs": [
        {
          "output_type": "execute_result",
          "data": {
            "text/plain": [
              "tensor([[0., 0., 0.],\n",
              "        [0., 0., 0.]])"
            ]
          },
          "metadata": {},
          "execution_count": 5
        }
      ]
    },
    {
      "cell_type": "code",
      "source": [
        "e = torch.randint(size = (2,3), low = 1, high = 10, dtype = torch.float32)"
      ],
      "metadata": {
        "id": "tR9ILfJCbvDv"
      },
      "execution_count": null,
      "outputs": []
    },
    {
      "cell_type": "code",
      "source": [
        "e"
      ],
      "metadata": {
        "colab": {
          "base_uri": "https://localhost:8080/"
        },
        "id": "g8OSglSkbu_a",
        "outputId": "1189d1ad-b180-41aa-8ee5-1cc545c1c38f"
      },
      "execution_count": null,
      "outputs": [
        {
          "output_type": "execute_result",
          "data": {
            "text/plain": [
              "tensor([[5., 9., 5.],\n",
              "        [6., 1., 7.]])"
            ]
          },
          "metadata": {},
          "execution_count": 7
        }
      ]
    },
    {
      "cell_type": "code",
      "source": [
        "torch.std(e)"
      ],
      "metadata": {
        "colab": {
          "base_uri": "https://localhost:8080/"
        },
        "id": "85XXs-EIbu4r",
        "outputId": "55ce1d45-3131-49e3-8f8d-4ff953ac0dde"
      },
      "execution_count": null,
      "outputs": [
        {
          "output_type": "execute_result",
          "data": {
            "text/plain": [
              "tensor(2.6646)"
            ]
          },
          "metadata": {},
          "execution_count": 8
        }
      ]
    },
    {
      "cell_type": "code",
      "source": [
        "torch.cuda.is_available()"
      ],
      "metadata": {
        "colab": {
          "base_uri": "https://localhost:8080/"
        },
        "id": "6LfgXmnXsa5c",
        "outputId": "27a75db4-e233-40d4-b49b-0903d5b5721b"
      },
      "execution_count": null,
      "outputs": [
        {
          "output_type": "execute_result",
          "data": {
            "text/plain": [
              "True"
            ]
          },
          "metadata": {},
          "execution_count": 9
        }
      ]
    },
    {
      "cell_type": "code",
      "source": [
        "device = torch.device('cuda')"
      ],
      "metadata": {
        "id": "VrNrD3Rjsa2D"
      },
      "execution_count": null,
      "outputs": []
    },
    {
      "cell_type": "code",
      "source": [
        "# creating a new tensor on GPU"
      ],
      "metadata": {
        "id": "oHzuc6oJsayN"
      },
      "execution_count": null,
      "outputs": []
    },
    {
      "cell_type": "code",
      "source": [
        "torch.rand((2,3), device = device)"
      ],
      "metadata": {
        "colab": {
          "base_uri": "https://localhost:8080/"
        },
        "id": "RnqUIlOGsaui",
        "outputId": "fbce4759-8353-412d-8710-275b230c12bd"
      },
      "execution_count": null,
      "outputs": [
        {
          "output_type": "execute_result",
          "data": {
            "text/plain": [
              "tensor([[0.6721, 0.5988, 0.9632],\n",
              "        [0.1382, 0.0510, 0.9371]], device='cuda:0')"
            ]
          },
          "metadata": {},
          "execution_count": 12
        }
      ]
    },
    {
      "cell_type": "code",
      "source": [
        "# moving an existing tensor to GPU"
      ],
      "metadata": {
        "id": "c6XA54zlsaqW"
      },
      "execution_count": null,
      "outputs": []
    },
    {
      "cell_type": "code",
      "source": [
        "e"
      ],
      "metadata": {
        "colab": {
          "base_uri": "https://localhost:8080/"
        },
        "id": "19L_WqoWsal9",
        "outputId": "12963ba7-1fc2-4fa3-d810-408b35fd4cba"
      },
      "execution_count": null,
      "outputs": [
        {
          "output_type": "execute_result",
          "data": {
            "text/plain": [
              "tensor([[5., 9., 5.],\n",
              "        [6., 1., 7.]])"
            ]
          },
          "metadata": {},
          "execution_count": 14
        }
      ]
    },
    {
      "cell_type": "code",
      "source": [
        " a = e.to(device)"
      ],
      "metadata": {
        "id": "yO19JMY7sail"
      },
      "execution_count": null,
      "outputs": []
    },
    {
      "cell_type": "code",
      "source": [
        "a"
      ],
      "metadata": {
        "colab": {
          "base_uri": "https://localhost:8080/"
        },
        "id": "_6z8F1eCsaeN",
        "outputId": "99f225ee-767d-4245-c9ef-cbdff71962f4"
      },
      "execution_count": null,
      "outputs": [
        {
          "output_type": "execute_result",
          "data": {
            "text/plain": [
              "tensor([[5., 9., 5.],\n",
              "        [6., 1., 7.]], device='cuda:0')"
            ]
          },
          "metadata": {},
          "execution_count": 16
        }
      ]
    },
    {
      "cell_type": "code",
      "source": [
        "a + 5"
      ],
      "metadata": {
        "colab": {
          "base_uri": "https://localhost:8080/"
        },
        "id": "JFU9r8I4sabG",
        "outputId": "3beeb47a-256c-46df-e62d-48af84451786"
      },
      "execution_count": null,
      "outputs": [
        {
          "output_type": "execute_result",
          "data": {
            "text/plain": [
              "tensor([[10., 14., 10.],\n",
              "        [11.,  6., 12.]], device='cuda:0')"
            ]
          },
          "metadata": {},
          "execution_count": 17
        }
      ]
    },
    {
      "cell_type": "code",
      "source": [
        "import time\n",
        "\n",
        "# define the size of matrices\n",
        "\n",
        "size = 10000\n",
        "\n",
        "# create random matrices on CPU\n",
        "matrix_cpu1 = torch.randn(size,size)\n",
        "matrix_cpu2 = torch.randn(size,size)\n",
        "\n",
        "# measure the time on CPU\n",
        "\n",
        "start_time = time.time()\n",
        "\n",
        "result_cpu = torch.matmul(matrix_cpu1, matrix_cpu2)\n",
        "\n",
        "cpu_time = time.time() - start_time\n",
        "\n",
        "print(f\"Time on CPU: {cpu_time: .4f} seconds\")\n",
        "\n",
        "# move matrices to GPU\n",
        "\n",
        "matrix_gpu1 = matrix_cpu1.to('cuda')\n",
        "matrix_gpu2 = matrix_cpu2.to('cuda')\n",
        "\n",
        "\n",
        "#measure time on GPU\n",
        "\n",
        "start_time = time.time()\n",
        "\n",
        "result_gpu = torch.matmul(matrix_gpu1, matrix_gpu2)\n",
        "\n",
        "torch.cuda.synchronize()  # Ensure all GPU operations are complete\n",
        "\n",
        "gpu_time = time.time() - start_time\n",
        "\n",
        "print(f\"Time on GPU: {gpu_time: .4f} seconds\")\n",
        "\n",
        "# compare results\n",
        "\n",
        "print(\"\\n speedup (cpu_time / gpu_time): \", cpu_time/gpu_time)"
      ],
      "metadata": {
        "colab": {
          "base_uri": "https://localhost:8080/"
        },
        "id": "O09dhaRfh6d_",
        "outputId": "5291bed9-7abd-47d7-b402-601e05fc4528"
      },
      "execution_count": null,
      "outputs": [
        {
          "output_type": "stream",
          "name": "stdout",
          "text": [
            "Time on CPU:  15.6507 seconds\n",
            "Time on GPU:  0.6261 seconds\n",
            "\n",
            " speedup (cpu_time / gpu_time):  24.996919741150112\n"
          ]
        }
      ]
    },
    {
      "cell_type": "code",
      "source": [
        "torch.log(e)"
      ],
      "metadata": {
        "id": "4iSXq4LMbu0o",
        "colab": {
          "base_uri": "https://localhost:8080/"
        },
        "outputId": "5a861656-5e89-4794-9be8-bd3adff3f5c9"
      },
      "execution_count": null,
      "outputs": [
        {
          "output_type": "execute_result",
          "data": {
            "text/plain": [
              "tensor([[1.6094, 2.1972, 1.6094],\n",
              "        [1.7918, 0.0000, 1.9459]])"
            ]
          },
          "metadata": {},
          "execution_count": 19
        }
      ]
    },
    {
      "cell_type": "code",
      "source": [
        "torch.sqrt(e)"
      ],
      "metadata": {
        "id": "rV4vSJLSbuwc",
        "colab": {
          "base_uri": "https://localhost:8080/"
        },
        "outputId": "a82f85f4-c8d6-4913-f8ff-557da1481bf9"
      },
      "execution_count": null,
      "outputs": [
        {
          "output_type": "execute_result",
          "data": {
            "text/plain": [
              "tensor([[2.2361, 3.0000, 2.2361],\n",
              "        [2.4495, 1.0000, 2.6458]])"
            ]
          },
          "metadata": {},
          "execution_count": 20
        }
      ]
    },
    {
      "cell_type": "code",
      "source": [
        "torch.sigmoid(e)"
      ],
      "metadata": {
        "id": "VVFacElpbusL",
        "colab": {
          "base_uri": "https://localhost:8080/"
        },
        "outputId": "5e8468c7-a7b5-4436-cc47-8c79519cb0a1"
      },
      "execution_count": null,
      "outputs": [
        {
          "output_type": "execute_result",
          "data": {
            "text/plain": [
              "tensor([[0.9933, 0.9999, 0.9933],\n",
              "        [0.9975, 0.7311, 0.9991]])"
            ]
          },
          "metadata": {},
          "execution_count": 21
        }
      ]
    },
    {
      "cell_type": "code",
      "source": [
        "torch.softmax(e, dim=0)"
      ],
      "metadata": {
        "colab": {
          "base_uri": "https://localhost:8080/"
        },
        "id": "RQeMGanLe-0r",
        "outputId": "983ec440-ae46-409b-ce41-2a4917255156"
      },
      "execution_count": null,
      "outputs": [
        {
          "output_type": "execute_result",
          "data": {
            "text/plain": [
              "tensor([[2.6894e-01, 9.9966e-01, 1.1920e-01],\n",
              "        [7.3106e-01, 3.3535e-04, 8.8080e-01]])"
            ]
          },
          "metadata": {},
          "execution_count": 22
        }
      ]
    },
    {
      "cell_type": "code",
      "source": [
        "torch.relu(e)"
      ],
      "metadata": {
        "colab": {
          "base_uri": "https://localhost:8080/"
        },
        "id": "jYfQpJdje-xE",
        "outputId": "f55f38dc-d7bc-4f43-ffc0-63b5c33e5b0e"
      },
      "execution_count": null,
      "outputs": [
        {
          "output_type": "execute_result",
          "data": {
            "text/plain": [
              "tensor([[5., 9., 5.],\n",
              "        [6., 1., 7.]])"
            ]
          },
          "metadata": {},
          "execution_count": 24
        }
      ]
    },
    {
      "cell_type": "code",
      "source": [
        "# inplace operation"
      ],
      "metadata": {
        "id": "KgaIlcv5e-td"
      },
      "execution_count": null,
      "outputs": []
    },
    {
      "cell_type": "code",
      "source": [
        "m = torch.rand(2,3)\n",
        "n = torch.rand(2,3)"
      ],
      "metadata": {
        "id": "z8JJmoE5e-p_"
      },
      "execution_count": null,
      "outputs": []
    },
    {
      "cell_type": "code",
      "source": [
        "m"
      ],
      "metadata": {
        "colab": {
          "base_uri": "https://localhost:8080/"
        },
        "id": "4JV2Tzwae-mN",
        "outputId": "3f0e61ba-05d4-497d-baa8-02a7384a888e"
      },
      "execution_count": null,
      "outputs": [
        {
          "output_type": "execute_result",
          "data": {
            "text/plain": [
              "tensor([[0.8420, 0.1127, 0.1009],\n",
              "        [0.5662, 0.0351, 0.7615]])"
            ]
          },
          "metadata": {},
          "execution_count": 27
        }
      ]
    },
    {
      "cell_type": "code",
      "source": [
        "n"
      ],
      "metadata": {
        "colab": {
          "base_uri": "https://localhost:8080/"
        },
        "id": "jL9mdQ7_e-i0",
        "outputId": "c7e87ece-4e3c-41b5-905c-fdc35bd87f32"
      },
      "execution_count": null,
      "outputs": [
        {
          "output_type": "execute_result",
          "data": {
            "text/plain": [
              "tensor([[0.5597, 0.4290, 0.8488],\n",
              "        [0.6378, 0.4015, 0.5144]])"
            ]
          },
          "metadata": {},
          "execution_count": 28
        }
      ]
    },
    {
      "cell_type": "code",
      "source": [
        "m + n"
      ],
      "metadata": {
        "colab": {
          "base_uri": "https://localhost:8080/"
        },
        "id": "UVmAWfRze-fp",
        "outputId": "701c705a-f6c5-46bc-8c42-9b319da4ed4e"
      },
      "execution_count": null,
      "outputs": [
        {
          "output_type": "execute_result",
          "data": {
            "text/plain": [
              "tensor([[1.4017, 0.5417, 0.9497],\n",
              "        [1.2040, 0.4366, 1.2759]])"
            ]
          },
          "metadata": {},
          "execution_count": 29
        }
      ]
    },
    {
      "cell_type": "code",
      "source": [
        "m.add(n)"
      ],
      "metadata": {
        "colab": {
          "base_uri": "https://localhost:8080/"
        },
        "id": "FG_bCysKe-cK",
        "outputId": "0df5769a-4d38-44f4-ec6d-be6b7f001a03"
      },
      "execution_count": null,
      "outputs": [
        {
          "output_type": "execute_result",
          "data": {
            "text/plain": [
              "tensor([[1.4017, 0.5417, 0.9497],\n",
              "        [1.2040, 0.4366, 1.2759]])"
            ]
          },
          "metadata": {},
          "execution_count": 30
        }
      ]
    },
    {
      "cell_type": "code",
      "source": [
        "m"
      ],
      "metadata": {
        "colab": {
          "base_uri": "https://localhost:8080/"
        },
        "id": "HM8sB_L5e-Yx",
        "outputId": "40081c07-1542-4575-aa50-6c9d96dec933"
      },
      "execution_count": null,
      "outputs": [
        {
          "output_type": "execute_result",
          "data": {
            "text/plain": [
              "tensor([[0.8420, 0.1127, 0.1009],\n",
              "        [0.5662, 0.0351, 0.7615]])"
            ]
          },
          "metadata": {},
          "execution_count": 31
        }
      ]
    },
    {
      "cell_type": "code",
      "source": [
        "m.add_(n)"
      ],
      "metadata": {
        "colab": {
          "base_uri": "https://localhost:8080/"
        },
        "id": "lxQxwq6ye-VZ",
        "outputId": "ae622ca2-3d62-467c-afd5-65d4dcbbf458"
      },
      "execution_count": null,
      "outputs": [
        {
          "output_type": "execute_result",
          "data": {
            "text/plain": [
              "tensor([[1.4017, 0.5417, 0.9497],\n",
              "        [1.2040, 0.4366, 1.2759]])"
            ]
          },
          "metadata": {},
          "execution_count": 32
        }
      ]
    },
    {
      "cell_type": "code",
      "source": [
        "m"
      ],
      "metadata": {
        "id": "xJtYrVKHbuni",
        "colab": {
          "base_uri": "https://localhost:8080/"
        },
        "outputId": "49c0eb72-db96-4503-b180-4043aac04851"
      },
      "execution_count": null,
      "outputs": [
        {
          "output_type": "execute_result",
          "data": {
            "text/plain": [
              "tensor([[1.4017, 0.5417, 0.9497],\n",
              "        [1.2040, 0.4366, 1.2759]])"
            ]
          },
          "metadata": {},
          "execution_count": 33
        }
      ]
    },
    {
      "cell_type": "code",
      "source": [
        "e.relu_()"
      ],
      "metadata": {
        "colab": {
          "base_uri": "https://localhost:8080/"
        },
        "id": "QpZcLZidfpk4",
        "outputId": "192b1114-4daa-4845-93cb-05b00f8f6ed9"
      },
      "execution_count": null,
      "outputs": [
        {
          "output_type": "execute_result",
          "data": {
            "text/plain": [
              "tensor([[5., 9., 5.],\n",
              "        [6., 1., 7.]])"
            ]
          },
          "metadata": {},
          "execution_count": 34
        }
      ]
    },
    {
      "cell_type": "code",
      "source": [
        "# copying a Tensor"
      ],
      "metadata": {
        "id": "Z1H2Rw_Ufphj"
      },
      "execution_count": null,
      "outputs": []
    },
    {
      "cell_type": "code",
      "source": [
        "a = torch.rand(2,3)"
      ],
      "metadata": {
        "id": "fihD26RNfpd_"
      },
      "execution_count": null,
      "outputs": []
    },
    {
      "cell_type": "code",
      "source": [
        "a"
      ],
      "metadata": {
        "colab": {
          "base_uri": "https://localhost:8080/"
        },
        "id": "gXxT0MU1fpaY",
        "outputId": "8f0eca35-5d5b-485d-8fe4-e813d92d26aa"
      },
      "execution_count": null,
      "outputs": [
        {
          "output_type": "execute_result",
          "data": {
            "text/plain": [
              "tensor([[0.1721, 0.1905, 0.0356],\n",
              "        [0.9626, 0.3642, 0.9363]])"
            ]
          },
          "metadata": {},
          "execution_count": 37
        }
      ]
    },
    {
      "cell_type": "code",
      "source": [
        "b = a"
      ],
      "metadata": {
        "id": "fJW8MY4mfpXR"
      },
      "execution_count": null,
      "outputs": []
    },
    {
      "cell_type": "code",
      "source": [
        "b"
      ],
      "metadata": {
        "colab": {
          "base_uri": "https://localhost:8080/"
        },
        "id": "L39zoVDvfpUJ",
        "outputId": "cdfa5e7e-b225-4019-ab41-12b84c5ebe3d"
      },
      "execution_count": null,
      "outputs": [
        {
          "output_type": "execute_result",
          "data": {
            "text/plain": [
              "tensor([[0.0000, 0.1905, 0.0356],\n",
              "        [0.9626, 0.3642, 0.9363]])"
            ]
          },
          "metadata": {},
          "execution_count": 49
        }
      ]
    },
    {
      "cell_type": "code",
      "source": [
        "a[0][0] = 0"
      ],
      "metadata": {
        "id": "sjnZz2w-fpQw"
      },
      "execution_count": null,
      "outputs": []
    },
    {
      "cell_type": "code",
      "source": [
        "a"
      ],
      "metadata": {
        "colab": {
          "base_uri": "https://localhost:8080/"
        },
        "id": "h0faf7befpNQ",
        "outputId": "5fcc690e-0caf-4bbd-8260-c7f5785a4810"
      },
      "execution_count": null,
      "outputs": [
        {
          "output_type": "execute_result",
          "data": {
            "text/plain": [
              "tensor([[0.0000, 0.1905, 0.0356],\n",
              "        [0.9626, 0.3642, 0.9363]])"
            ]
          },
          "metadata": {},
          "execution_count": 41
        }
      ]
    },
    {
      "cell_type": "code",
      "source": [
        "b"
      ],
      "metadata": {
        "colab": {
          "base_uri": "https://localhost:8080/"
        },
        "id": "GOgiya3UggZ1",
        "outputId": "f91e9d14-d38d-41cc-da09-fbf4f3dca727"
      },
      "execution_count": null,
      "outputs": [
        {
          "output_type": "execute_result",
          "data": {
            "text/plain": [
              "tensor([[0.0000, 0.1905, 0.0356],\n",
              "        [0.9626, 0.3642, 0.9363]])"
            ]
          },
          "metadata": {},
          "execution_count": 46
        }
      ]
    },
    {
      "cell_type": "code",
      "source": [
        "id(a)"
      ],
      "metadata": {
        "colab": {
          "base_uri": "https://localhost:8080/"
        },
        "id": "9M5FdACdgqGu",
        "outputId": "7570f204-ca9b-4345-ba61-33fc78ea2a77"
      },
      "execution_count": null,
      "outputs": [
        {
          "output_type": "execute_result",
          "data": {
            "text/plain": [
              "138526705274848"
            ]
          },
          "metadata": {},
          "execution_count": 44
        }
      ]
    },
    {
      "cell_type": "code",
      "source": [
        "id(b)"
      ],
      "metadata": {
        "colab": {
          "base_uri": "https://localhost:8080/"
        },
        "id": "8aODEyF4gpzw",
        "outputId": "bdbc7f64-1fa2-4d5a-eeb3-cead835cd83e"
      },
      "execution_count": null,
      "outputs": [
        {
          "output_type": "execute_result",
          "data": {
            "text/plain": [
              "138526705274848"
            ]
          },
          "metadata": {},
          "execution_count": 50
        }
      ]
    },
    {
      "cell_type": "code",
      "source": [
        "b = a.clone()"
      ],
      "metadata": {
        "id": "1S3t5FAkggWU"
      },
      "execution_count": null,
      "outputs": []
    },
    {
      "cell_type": "code",
      "source": [
        "b"
      ],
      "metadata": {
        "colab": {
          "base_uri": "https://localhost:8080/"
        },
        "id": "tFjhhLaaggS6",
        "outputId": "52a1b04a-2df0-43df-8b37-89e1cfc16f24"
      },
      "execution_count": null,
      "outputs": [
        {
          "output_type": "execute_result",
          "data": {
            "text/plain": [
              "tensor([[0.0000, 0.1905, 0.0356],\n",
              "        [0.9626, 0.3642, 0.9363]])"
            ]
          },
          "metadata": {},
          "execution_count": 52
        }
      ]
    },
    {
      "cell_type": "code",
      "source": [
        "a[0][0] = 10"
      ],
      "metadata": {
        "id": "542WLvkCggQO"
      },
      "execution_count": null,
      "outputs": []
    },
    {
      "cell_type": "code",
      "source": [
        "a"
      ],
      "metadata": {
        "colab": {
          "base_uri": "https://localhost:8080/"
        },
        "id": "QGQYsRFaggMO",
        "outputId": "6437f219-a976-4d7c-a648-f61bc0507633"
      },
      "execution_count": null,
      "outputs": [
        {
          "output_type": "execute_result",
          "data": {
            "text/plain": [
              "tensor([[10.0000,  0.1905,  0.0356],\n",
              "        [ 0.9626,  0.3642,  0.9363]])"
            ]
          },
          "metadata": {},
          "execution_count": 54
        }
      ]
    },
    {
      "cell_type": "code",
      "source": [
        "b"
      ],
      "metadata": {
        "colab": {
          "base_uri": "https://localhost:8080/"
        },
        "id": "z6TjroW3ggJb",
        "outputId": "38b5aedf-1bc5-4082-b123-ad70c3727098"
      },
      "execution_count": null,
      "outputs": [
        {
          "output_type": "execute_result",
          "data": {
            "text/plain": [
              "tensor([[0.0000, 0.1905, 0.0356],\n",
              "        [0.9626, 0.3642, 0.9363]])"
            ]
          },
          "metadata": {},
          "execution_count": 55
        }
      ]
    },
    {
      "cell_type": "code",
      "source": [
        "id(a)"
      ],
      "metadata": {
        "colab": {
          "base_uri": "https://localhost:8080/"
        },
        "id": "P-MvAHVSggFu",
        "outputId": "b3390b60-b671-47f1-e728-e70412ec0c3e"
      },
      "execution_count": null,
      "outputs": [
        {
          "output_type": "execute_result",
          "data": {
            "text/plain": [
              "138526705274848"
            ]
          },
          "metadata": {},
          "execution_count": 56
        }
      ]
    },
    {
      "cell_type": "code",
      "source": [
        "id(b)"
      ],
      "metadata": {
        "colab": {
          "base_uri": "https://localhost:8080/"
        },
        "id": "DxnPB3XsggCl",
        "outputId": "66991390-f876-47ba-cda8-7791794f0775"
      },
      "execution_count": null,
      "outputs": [
        {
          "output_type": "execute_result",
          "data": {
            "text/plain": [
              "138522822144096"
            ]
          },
          "metadata": {},
          "execution_count": 57
        }
      ]
    },
    {
      "cell_type": "code",
      "source": [
        "# Reshaping Tensors"
      ],
      "metadata": {
        "id": "XIsfVVC5hNW5"
      },
      "execution_count": null,
      "outputs": []
    },
    {
      "cell_type": "code",
      "source": [
        "a = torch.ones(4,4)\n",
        "a"
      ],
      "metadata": {
        "colab": {
          "base_uri": "https://localhost:8080/"
        },
        "id": "TT2txZbNhNTD",
        "outputId": "788c5041-9c76-4a2a-e415-14fa7f419dc8"
      },
      "execution_count": null,
      "outputs": [
        {
          "output_type": "execute_result",
          "data": {
            "text/plain": [
              "tensor([[1., 1., 1., 1.],\n",
              "        [1., 1., 1., 1.],\n",
              "        [1., 1., 1., 1.],\n",
              "        [1., 1., 1., 1.]])"
            ]
          },
          "metadata": {},
          "execution_count": 62
        }
      ]
    },
    {
      "cell_type": "code",
      "source": [
        "a.reshape(2,2,2,2)"
      ],
      "metadata": {
        "colab": {
          "base_uri": "https://localhost:8080/"
        },
        "id": "1oDhcyVzhNPV",
        "outputId": "a5c801a9-0325-4fa5-95d6-b811861f1801"
      },
      "execution_count": null,
      "outputs": [
        {
          "output_type": "execute_result",
          "data": {
            "text/plain": [
              "tensor([[[[1., 1.],\n",
              "          [1., 1.]],\n",
              "\n",
              "         [[1., 1.],\n",
              "          [1., 1.]]],\n",
              "\n",
              "\n",
              "        [[[1., 1.],\n",
              "          [1., 1.]],\n",
              "\n",
              "         [[1., 1.],\n",
              "          [1., 1.]]]])"
            ]
          },
          "metadata": {},
          "execution_count": 63
        }
      ]
    },
    {
      "cell_type": "code",
      "source": [
        "# flatten"
      ],
      "metadata": {
        "id": "saQf3DcahNLR"
      },
      "execution_count": null,
      "outputs": []
    },
    {
      "cell_type": "code",
      "source": [
        "a.flatten()"
      ],
      "metadata": {
        "colab": {
          "base_uri": "https://localhost:8080/"
        },
        "id": "_nxfNUjnhNHd",
        "outputId": "5e556311-007a-46c3-a80c-b3047756983c"
      },
      "execution_count": null,
      "outputs": [
        {
          "output_type": "execute_result",
          "data": {
            "text/plain": [
              "tensor([1., 1., 1., 1., 1., 1., 1., 1., 1., 1., 1., 1., 1., 1., 1., 1.])"
            ]
          },
          "metadata": {},
          "execution_count": 65
        }
      ]
    },
    {
      "cell_type": "code",
      "source": [
        "b = torch.rand(2,3,4)\n",
        "\n",
        "b"
      ],
      "metadata": {
        "colab": {
          "base_uri": "https://localhost:8080/"
        },
        "id": "tfoqfo1FhNEK",
        "outputId": "26de7a7b-0e81-4352-d778-6285f089e894"
      },
      "execution_count": null,
      "outputs": [
        {
          "output_type": "execute_result",
          "data": {
            "text/plain": [
              "tensor([[[0.1594, 0.1547, 0.9159, 0.2845],\n",
              "         [0.6921, 0.5657, 0.4315, 0.7122],\n",
              "         [0.1515, 0.9552, 0.7234, 0.7289]],\n",
              "\n",
              "        [[0.7893, 0.0106, 0.1248, 0.0240],\n",
              "         [0.1850, 0.1771, 0.5167, 0.2698],\n",
              "         [0.2718, 0.2982, 0.3808, 0.5947]]])"
            ]
          },
          "metadata": {},
          "execution_count": 66
        }
      ]
    },
    {
      "cell_type": "code",
      "source": [
        "b.permute(2,0,1)"
      ],
      "metadata": {
        "colab": {
          "base_uri": "https://localhost:8080/"
        },
        "id": "YxdVjqn0hNAM",
        "outputId": "a7609a72-aafe-4935-b23e-737ad6d873ea"
      },
      "execution_count": null,
      "outputs": [
        {
          "output_type": "execute_result",
          "data": {
            "text/plain": [
              "tensor([[[0.1594, 0.6921, 0.1515],\n",
              "         [0.7893, 0.1850, 0.2718]],\n",
              "\n",
              "        [[0.1547, 0.5657, 0.9552],\n",
              "         [0.0106, 0.1771, 0.2982]],\n",
              "\n",
              "        [[0.9159, 0.4315, 0.7234],\n",
              "         [0.1248, 0.5167, 0.3808]],\n",
              "\n",
              "        [[0.2845, 0.7122, 0.7289],\n",
              "         [0.0240, 0.2698, 0.5947]]])"
            ]
          },
          "metadata": {},
          "execution_count": 67
        }
      ]
    },
    {
      "cell_type": "code",
      "source": [
        "b.permute(2,0,1).shape"
      ],
      "metadata": {
        "colab": {
          "base_uri": "https://localhost:8080/"
        },
        "id": "9LE5lr0JhM8N",
        "outputId": "c89a2764-5e99-42f8-acbe-f75f79984be7"
      },
      "execution_count": null,
      "outputs": [
        {
          "output_type": "execute_result",
          "data": {
            "text/plain": [
              "torch.Size([4, 2, 3])"
            ]
          },
          "metadata": {},
          "execution_count": 68
        }
      ]
    },
    {
      "cell_type": "code",
      "source": [
        "# unsqueeze"
      ],
      "metadata": {
        "id": "VB0v5dkJhM4T"
      },
      "execution_count": null,
      "outputs": []
    },
    {
      "cell_type": "code",
      "source": [
        "c = torch.rand(226,226,3)"
      ],
      "metadata": {
        "id": "Un-wuZ84hM06"
      },
      "execution_count": null,
      "outputs": []
    },
    {
      "cell_type": "code",
      "source": [
        "c"
      ],
      "metadata": {
        "colab": {
          "base_uri": "https://localhost:8080/"
        },
        "id": "y4SPRTNZhMw6",
        "outputId": "cc28a2a9-0c4b-40a5-8b7e-1814d7875404"
      },
      "execution_count": null,
      "outputs": [
        {
          "output_type": "execute_result",
          "data": {
            "text/plain": [
              "tensor([[[0.8713, 0.0648, 0.4597],\n",
              "         [0.7001, 0.5456, 0.9379],\n",
              "         [0.7735, 0.3067, 0.0288],\n",
              "         ...,\n",
              "         [0.1679, 0.7026, 0.2474],\n",
              "         [0.4765, 0.1622, 0.3424],\n",
              "         [0.3077, 0.9497, 0.1641]],\n",
              "\n",
              "        [[0.8906, 0.6174, 0.1665],\n",
              "         [0.2636, 0.3008, 0.6062],\n",
              "         [0.8872, 0.7250, 0.5632],\n",
              "         ...,\n",
              "         [0.6697, 0.9905, 0.0327],\n",
              "         [0.0632, 0.3278, 0.9328],\n",
              "         [0.4228, 0.2468, 0.5798]],\n",
              "\n",
              "        [[0.7631, 0.7995, 0.8326],\n",
              "         [0.5984, 0.3041, 0.9803],\n",
              "         [0.0416, 0.8722, 0.9415],\n",
              "         ...,\n",
              "         [0.3593, 0.4594, 0.9320],\n",
              "         [0.9534, 0.8105, 0.4385],\n",
              "         [0.0342, 0.6590, 0.9808]],\n",
              "\n",
              "        ...,\n",
              "\n",
              "        [[0.2054, 0.1469, 0.5038],\n",
              "         [0.3029, 0.2087, 0.4414],\n",
              "         [0.0997, 0.8424, 0.5975],\n",
              "         ...,\n",
              "         [0.1474, 0.2429, 0.7641],\n",
              "         [0.8260, 0.7502, 0.2584],\n",
              "         [0.2267, 0.4827, 0.1979]],\n",
              "\n",
              "        [[0.5549, 0.3148, 0.1151],\n",
              "         [0.7420, 0.1601, 0.9530],\n",
              "         [0.6744, 0.7709, 0.0123],\n",
              "         ...,\n",
              "         [0.6555, 0.6272, 0.5074],\n",
              "         [0.5024, 0.1153, 0.7569],\n",
              "         [0.9097, 0.7975, 0.7353]],\n",
              "\n",
              "        [[0.8026, 0.1853, 0.9345],\n",
              "         [0.5210, 0.6347, 0.3439],\n",
              "         [0.1545, 0.5488, 0.3203],\n",
              "         ...,\n",
              "         [0.7089, 0.1988, 0.9507],\n",
              "         [0.5743, 0.2510, 0.8026],\n",
              "         [0.3633, 0.5252, 0.3038]]])"
            ]
          },
          "metadata": {},
          "execution_count": 71
        }
      ]
    },
    {
      "cell_type": "code",
      "source": [
        "c.unsqueeze(0).shape"
      ],
      "metadata": {
        "colab": {
          "base_uri": "https://localhost:8080/"
        },
        "id": "t4qt12iusmmj",
        "outputId": "0dde9666-b24e-461c-b789-5d5514ca795c"
      },
      "execution_count": null,
      "outputs": [
        {
          "output_type": "execute_result",
          "data": {
            "text/plain": [
              "torch.Size([1, 226, 226, 3])"
            ]
          },
          "metadata": {},
          "execution_count": 74
        }
      ]
    },
    {
      "cell_type": "code",
      "source": [
        "c.unsqueeze(1).shape"
      ],
      "metadata": {
        "colab": {
          "base_uri": "https://localhost:8080/"
        },
        "id": "xpSzt0EAswwu",
        "outputId": "a6b8e92a-b72f-4c31-8808-7e635267e864"
      },
      "execution_count": null,
      "outputs": [
        {
          "output_type": "execute_result",
          "data": {
            "text/plain": [
              "torch.Size([226, 1, 226, 3])"
            ]
          },
          "metadata": {},
          "execution_count": 75
        }
      ]
    },
    {
      "cell_type": "code",
      "source": [
        "c.unsqueeze(2).shape"
      ],
      "metadata": {
        "colab": {
          "base_uri": "https://localhost:8080/"
        },
        "id": "1VdcEKnPs4Lb",
        "outputId": "4099c43c-c7ff-4d33-a01f-2753903b2829"
      },
      "execution_count": null,
      "outputs": [
        {
          "output_type": "execute_result",
          "data": {
            "text/plain": [
              "torch.Size([226, 226, 1, 3])"
            ]
          },
          "metadata": {},
          "execution_count": 76
        }
      ]
    },
    {
      "cell_type": "code",
      "source": [
        "c.unsqueeze(0)"
      ],
      "metadata": {
        "colab": {
          "base_uri": "https://localhost:8080/"
        },
        "id": "uzt-ud2hhMsu",
        "outputId": "0f7342b7-a3a5-4772-c0e0-9760e208f895"
      },
      "execution_count": null,
      "outputs": [
        {
          "output_type": "execute_result",
          "data": {
            "text/plain": [
              "tensor([[[[0.8713, 0.0648, 0.4597],\n",
              "          [0.7001, 0.5456, 0.9379],\n",
              "          [0.7735, 0.3067, 0.0288],\n",
              "          ...,\n",
              "          [0.1679, 0.7026, 0.2474],\n",
              "          [0.4765, 0.1622, 0.3424],\n",
              "          [0.3077, 0.9497, 0.1641]],\n",
              "\n",
              "         [[0.8906, 0.6174, 0.1665],\n",
              "          [0.2636, 0.3008, 0.6062],\n",
              "          [0.8872, 0.7250, 0.5632],\n",
              "          ...,\n",
              "          [0.6697, 0.9905, 0.0327],\n",
              "          [0.0632, 0.3278, 0.9328],\n",
              "          [0.4228, 0.2468, 0.5798]],\n",
              "\n",
              "         [[0.7631, 0.7995, 0.8326],\n",
              "          [0.5984, 0.3041, 0.9803],\n",
              "          [0.0416, 0.8722, 0.9415],\n",
              "          ...,\n",
              "          [0.3593, 0.4594, 0.9320],\n",
              "          [0.9534, 0.8105, 0.4385],\n",
              "          [0.0342, 0.6590, 0.9808]],\n",
              "\n",
              "         ...,\n",
              "\n",
              "         [[0.2054, 0.1469, 0.5038],\n",
              "          [0.3029, 0.2087, 0.4414],\n",
              "          [0.0997, 0.8424, 0.5975],\n",
              "          ...,\n",
              "          [0.1474, 0.2429, 0.7641],\n",
              "          [0.8260, 0.7502, 0.2584],\n",
              "          [0.2267, 0.4827, 0.1979]],\n",
              "\n",
              "         [[0.5549, 0.3148, 0.1151],\n",
              "          [0.7420, 0.1601, 0.9530],\n",
              "          [0.6744, 0.7709, 0.0123],\n",
              "          ...,\n",
              "          [0.6555, 0.6272, 0.5074],\n",
              "          [0.5024, 0.1153, 0.7569],\n",
              "          [0.9097, 0.7975, 0.7353]],\n",
              "\n",
              "         [[0.8026, 0.1853, 0.9345],\n",
              "          [0.5210, 0.6347, 0.3439],\n",
              "          [0.1545, 0.5488, 0.3203],\n",
              "          ...,\n",
              "          [0.7089, 0.1988, 0.9507],\n",
              "          [0.5743, 0.2510, 0.8026],\n",
              "          [0.3633, 0.5252, 0.3038]]]])"
            ]
          },
          "metadata": {},
          "execution_count": 73
        }
      ]
    },
    {
      "cell_type": "code",
      "source": [
        "d = torch.rand(1,20)"
      ],
      "metadata": {
        "id": "cRe56Rt9hMoR"
      },
      "execution_count": null,
      "outputs": []
    },
    {
      "cell_type": "code",
      "source": [
        "d"
      ],
      "metadata": {
        "colab": {
          "base_uri": "https://localhost:8080/"
        },
        "id": "cniPXFxwsR8w",
        "outputId": "1ffb9dc1-718c-4077-d4cb-9719d33136cc"
      },
      "execution_count": null,
      "outputs": [
        {
          "output_type": "execute_result",
          "data": {
            "text/plain": [
              "tensor([[0.3530, 0.8150, 0.5937, 0.1148, 0.4051, 0.7523, 0.6069, 0.4843, 0.4178,\n",
              "         0.0459, 0.4060, 0.9441, 0.5357, 0.5787, 0.2253, 0.5833, 0.6302, 0.0835,\n",
              "         0.6493, 0.3899]])"
            ]
          },
          "metadata": {},
          "execution_count": 78
        }
      ]
    },
    {
      "cell_type": "code",
      "source": [
        "d.squeeze(0)"
      ],
      "metadata": {
        "colab": {
          "base_uri": "https://localhost:8080/"
        },
        "id": "X-PvaUzzsR4M",
        "outputId": "0f31d87c-5925-4cc0-f1f6-a0d5f899de46"
      },
      "execution_count": null,
      "outputs": [
        {
          "output_type": "execute_result",
          "data": {
            "text/plain": [
              "tensor([0.3530, 0.8150, 0.5937, 0.1148, 0.4051, 0.7523, 0.6069, 0.4843, 0.4178,\n",
              "        0.0459, 0.4060, 0.9441, 0.5357, 0.5787, 0.2253, 0.5833, 0.6302, 0.0835,\n",
              "        0.6493, 0.3899])"
            ]
          },
          "metadata": {},
          "execution_count": 79
        }
      ]
    },
    {
      "cell_type": "code",
      "source": [
        "d.squeeze(0).shape"
      ],
      "metadata": {
        "colab": {
          "base_uri": "https://localhost:8080/"
        },
        "id": "mrIaatRahMa3",
        "outputId": "614aed45-3ff1-4263-90cb-0cab7d0809bb"
      },
      "execution_count": null,
      "outputs": [
        {
          "output_type": "execute_result",
          "data": {
            "text/plain": [
              "torch.Size([20])"
            ]
          },
          "metadata": {},
          "execution_count": 84
        }
      ]
    },
    {
      "cell_type": "code",
      "source": [
        "d.shape"
      ],
      "metadata": {
        "colab": {
          "base_uri": "https://localhost:8080/"
        },
        "id": "jmbPYR1mfpJs",
        "outputId": "7944c7d6-f70b-4216-8728-bd581c5d0ae2"
      },
      "execution_count": null,
      "outputs": [
        {
          "output_type": "execute_result",
          "data": {
            "text/plain": [
              "torch.Size([1, 20])"
            ]
          },
          "metadata": {},
          "execution_count": 85
        }
      ]
    },
    {
      "cell_type": "code",
      "execution_count": null,
      "metadata": {
        "id": "Guti_y04bp_S"
      },
      "outputs": [],
      "source": [
        "# Numpy and Pytorch"
      ]
    },
    {
      "cell_type": "code",
      "source": [
        "import numpy as np"
      ],
      "metadata": {
        "id": "cKgnbR_AuTn0"
      },
      "execution_count": null,
      "outputs": []
    },
    {
      "cell_type": "code",
      "source": [
        "a = torch.tensor([1,2,3])\n",
        "a"
      ],
      "metadata": {
        "colab": {
          "base_uri": "https://localhost:8080/"
        },
        "id": "We8o9O3muTkR",
        "outputId": "b36ce934-2e74-4f9b-fb84-334c984bc5e2"
      },
      "execution_count": null,
      "outputs": [
        {
          "output_type": "execute_result",
          "data": {
            "text/plain": [
              "tensor([1, 2, 3])"
            ]
          },
          "metadata": {},
          "execution_count": 88
        }
      ]
    },
    {
      "cell_type": "code",
      "source": [
        "b = a.numpy()"
      ],
      "metadata": {
        "id": "LwRrehemuTgP"
      },
      "execution_count": null,
      "outputs": []
    },
    {
      "cell_type": "code",
      "source": [
        "b"
      ],
      "metadata": {
        "colab": {
          "base_uri": "https://localhost:8080/"
        },
        "id": "rrCW45zTuTba",
        "outputId": "768edbf2-588c-4358-e485-702c02ed6621"
      },
      "execution_count": null,
      "outputs": [
        {
          "output_type": "execute_result",
          "data": {
            "text/plain": [
              "array([1, 2, 3])"
            ]
          },
          "metadata": {},
          "execution_count": 90
        }
      ]
    },
    {
      "cell_type": "code",
      "source": [
        "type(b)"
      ],
      "metadata": {
        "colab": {
          "base_uri": "https://localhost:8080/"
        },
        "id": "HiRnLyzLuTXY",
        "outputId": "0e833ae3-6692-4299-d501-02a3ce0cd8a2"
      },
      "execution_count": null,
      "outputs": [
        {
          "output_type": "execute_result",
          "data": {
            "text/plain": [
              "numpy.ndarray"
            ]
          },
          "metadata": {},
          "execution_count": 91
        }
      ]
    },
    {
      "cell_type": "code",
      "source": [
        "c = np.array([1,2,3])"
      ],
      "metadata": {
        "id": "EBwL5mwpuTTC"
      },
      "execution_count": null,
      "outputs": []
    },
    {
      "cell_type": "code",
      "source": [
        "c"
      ],
      "metadata": {
        "colab": {
          "base_uri": "https://localhost:8080/"
        },
        "id": "q5Q6ZaDiu7zt",
        "outputId": "c65086c8-3de6-4271-e53c-c9092168c5bb"
      },
      "execution_count": null,
      "outputs": [
        {
          "output_type": "execute_result",
          "data": {
            "text/plain": [
              "array([1, 2, 3])"
            ]
          },
          "metadata": {},
          "execution_count": 93
        }
      ]
    },
    {
      "cell_type": "code",
      "source": [
        "torch.from_numpy(c)"
      ],
      "metadata": {
        "colab": {
          "base_uri": "https://localhost:8080/"
        },
        "id": "rWCq-2kVu7xP",
        "outputId": "4a3f3fdb-c2f2-43d6-a487-95a63d41653e"
      },
      "execution_count": null,
      "outputs": [
        {
          "output_type": "execute_result",
          "data": {
            "text/plain": [
              "tensor([1, 2, 3])"
            ]
          },
          "metadata": {},
          "execution_count": 94
        }
      ]
    },
    {
      "cell_type": "code",
      "source": [],
      "metadata": {
        "id": "tRmU4H47u7tM"
      },
      "execution_count": null,
      "outputs": []
    },
    {
      "cell_type": "code",
      "source": [],
      "metadata": {
        "id": "BhiP7HDOu7o1"
      },
      "execution_count": null,
      "outputs": []
    },
    {
      "cell_type": "code",
      "source": [],
      "metadata": {
        "id": "zJsyFgrXu7lk"
      },
      "execution_count": null,
      "outputs": []
    },
    {
      "cell_type": "code",
      "source": [],
      "metadata": {
        "id": "X-vyF7k0u7ix"
      },
      "execution_count": null,
      "outputs": []
    },
    {
      "cell_type": "code",
      "source": [],
      "metadata": {
        "id": "QT7Rh2AUu7fk"
      },
      "execution_count": null,
      "outputs": []
    },
    {
      "cell_type": "code",
      "source": [],
      "metadata": {
        "id": "dcQgIALGu7cW"
      },
      "execution_count": null,
      "outputs": []
    },
    {
      "cell_type": "code",
      "source": [],
      "metadata": {
        "id": "QJ-lRbyPu7Y1"
      },
      "execution_count": null,
      "outputs": []
    },
    {
      "cell_type": "code",
      "source": [],
      "metadata": {
        "id": "gSfukau9u7VV"
      },
      "execution_count": null,
      "outputs": []
    },
    {
      "cell_type": "code",
      "source": [],
      "metadata": {
        "id": "c8hjNvdnuTPE"
      },
      "execution_count": null,
      "outputs": []
    },
    {
      "cell_type": "code",
      "source": [],
      "metadata": {
        "id": "405M-9avuTKs"
      },
      "execution_count": null,
      "outputs": []
    },
    {
      "cell_type": "code",
      "source": [],
      "metadata": {
        "id": "XTkWPXGkuTEL"
      },
      "execution_count": null,
      "outputs": []
    }
  ]
}